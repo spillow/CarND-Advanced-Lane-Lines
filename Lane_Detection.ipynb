{
 "cells": [
  {
   "cell_type": "code",
   "execution_count": 92,
   "metadata": {
    "collapsed": true,
    "deletable": true,
    "editable": true
   },
   "outputs": [],
   "source": [
    "import os\n",
    "import cv2\n",
    "import numpy as np\n",
    "import matplotlib.pyplot as plt\n",
    "%matplotlib inline"
   ]
  },
  {
   "cell_type": "markdown",
   "metadata": {
    "deletable": true,
    "editable": true
   },
   "source": [
    "# Camera Calibration\n",
    "***\n",
    "We must first start with images that have all camera related distortion accounted for before further processing."
   ]
  },
  {
   "cell_type": "code",
   "execution_count": null,
   "metadata": {
    "collapsed": false,
    "deletable": true,
    "editable": true
   },
   "outputs": [
    {
     "name": "stdout",
     "output_type": "stream",
     "text": [
      "Failed to find checkerboard corners!: calibration1.jpg\n"
     ]
    }
   ],
   "source": [
    "def calibrate_camera(calibration_dir, checker_grid_size=(9,6)):\n",
    "    # read collection of checkerboard images and extract corners\n",
    "    objpoints = []\n",
    "    imgpoints = []\n",
    "    \n",
    "    (grid_x, grid_y) = checker_grid_size\n",
    "    objp = np.zeros((grid_x * grid_y, 3), np.float32)\n",
    "    objp[:,:2] = np.mgrid[0:grid_x, 0:grid_y].T.reshape(-1, 2)\n",
    "    \n",
    "    for cal_file in os.listdir(calibration_dir):\n",
    "        path = os.path.join(calibration_dir, cal_file)\n",
    "        img = plt.imread(path)\n",
    "        \n",
    "        gray = cv2.cvtColor(img, cv2.COLOR_RGB2GRAY)\n",
    "        ret, corners = cv2.findChessboardCorners(gray, checker_grid_size, None)\n",
    "        \n",
    "        if ret:\n",
    "            imgpoints.append(corners)\n",
    "            objpoints.append(objp)\n",
    "        else:\n",
    "            # Some images don't find the full 9x6 set of corners because they are cut off.\n",
    "            # print here for warning though it isn't catastrophic.\n",
    "            print(\"Failed to find checkerboard corners!:\", cal_file)\n",
    "    \n",
    "    ret, mtx, dist, rvecs, tvecs = cv2.calibrateCamera(objpoints, imgpoints, gray.shape[::-1], None, None)\n",
    "    \n",
    "    return (mtx, dist) if ret else None\n",
    "\n",
    "def undistort_image(img, cam_matrix, dist_params):\n",
    "    return cv2.undistort(img, cam_matrix, dist_params, None, cam_matrix)\n",
    "\n",
    "(cam_matrix, dist_params) = calibrate_camera('camera_cal')\n"
   ]
  },
  {
   "cell_type": "markdown",
   "metadata": {
    "deletable": true,
    "editable": true
   },
   "source": [
    "### Example: (note the lines have straightened out)\n",
    "***"
   ]
  },
  {
   "cell_type": "code",
   "execution_count": null,
   "metadata": {
    "collapsed": true,
    "deletable": true,
    "editable": true
   },
   "outputs": [],
   "source": [
    "def before_after_plot(img_before, img_after, title_before, title_after, cmap_before=None, cmap_after=None):\n",
    "    f, (ax1, ax2) = plt.subplots(1, 2, figsize=(24, 9))\n",
    "    f.tight_layout()\n",
    "    ax1.imshow(img_before, cmap=cmap_before)\n",
    "    ax1.set_title(title_before, fontsize=50)\n",
    "    ax2.imshow(img_after, cmap=cmap_after)\n",
    "    ax2.set_title(title_after, fontsize=50)\n",
    "    plt.subplots_adjust(left=0., right=1, top=0.9, bottom=0.)    "
   ]
  },
  {
   "cell_type": "code",
   "execution_count": null,
   "metadata": {
    "collapsed": false,
    "deletable": true,
    "editable": true,
    "scrolled": false
   },
   "outputs": [],
   "source": [
    "def ex1():\n",
    "    img = plt.imread('camera_cal/calibration5.jpg')\n",
    "    before_after_plot(img, undistort_image(img, cam_matrix, dist_params), 'Original Image', 'Undistorted Image')\n",
    "ex1()"
   ]
  },
  {
   "cell_type": "markdown",
   "metadata": {
    "deletable": true,
    "editable": true
   },
   "source": [
    "# Perspective Transformation\n",
    "***\n",
    "It is easier to process the curvature of lane lines when viewed from the top down.  Let's use a perspective transform to accomplish this.  To do this, we need to establish a correspondence between four points in the camera image to where we want the four corresponding locations to be in the top down image."
   ]
  },
  {
   "cell_type": "code",
   "execution_count": null,
   "metadata": {
    "collapsed": false,
    "deletable": true,
    "editable": true,
    "scrolled": false
   },
   "outputs": [],
   "source": [
    "def ex2():\n",
    "    img = plt.imread('test_images/straight_lines1.jpg')\n",
    "    img = undistort_image(img, cam_matrix, dist_params)\n",
    "    (height, width) = img.shape[:2]\n",
    "    # bottom left, clockwise\n",
    "    src_points = np.float32([(200, height-1), (590, 450), (690, 450), (1100, height-1)])\n",
    "    dst_points = np.float32([(200, height-1), (200, 0),   (1000, 0),   (1000, height-1)])\n",
    "    \n",
    "    M = cv2.getPerspectiveTransform(src_points, dst_points)\n",
    "    # This will be useful later when we want to remap back to original image.\n",
    "    Minv = cv2.getPerspectiveTransform(dst_points, src_points)\n",
    "    \n",
    "    for file in os.listdir('test_images'):\n",
    "        img = plt.imread(os.path.join('test_images', file))\n",
    "        top_down = cv2.warpPerspective(img, M, (width, height), flags=cv2.INTER_LINEAR)\n",
    "        cv2.polylines(img, [src_points.reshape((-1,1,2)).astype(np.int32)], True, color=(255,0,0), thickness=5)\n",
    "        cv2.polylines(top_down, [dst_points.reshape((-1,1,2)).astype(np.int32)], True, color=(255,0,0), thickness=5)\n",
    "\n",
    "        #before_after_plot(img, top_down, 'Undistorted', 'Warped top down')\n",
    "    \n",
    "    return (M, Minv)\n",
    "    \n",
    "(perspM, perspMinv) = ex2()"
   ]
  },
  {
   "cell_type": "markdown",
   "metadata": {
    "deletable": true,
    "editable": true
   },
   "source": [
    "# Thresholding\n",
    "***\n",
    "Here, we do thresholding techniques to get a rough extraction of the lane lines."
   ]
  },
  {
   "cell_type": "code",
   "execution_count": 135,
   "metadata": {
    "collapsed": true,
    "deletable": true,
    "editable": true
   },
   "outputs": [],
   "source": [
    "def lane_line_extract(img, threshx=50, threshy=50, mag_thresh=(20, 255), dir_thresh=(0.7, 1.3), ksize=3):\n",
    "    hls = cv2.cvtColor(img, cv2.COLOR_RGB2HLS)\n",
    "    s   = hls[:,:,2]\n",
    "    \n",
    "    sobelx = np.abs(cv2.Sobel(s, cv2.CV_64F, 1, 0, ksize=ksize))\n",
    "    sobely = np.abs(cv2.Sobel(s, cv2.CV_64F, 0, 1, ksize=ksize))\n",
    "    \n",
    "    mag_sobel = np.sqrt(sobelx*sobelx + sobely*sobely)\n",
    "    dir_sobel = np.arctan2(sobely, sobelx)\n",
    "    \n",
    "    scaled_sobel = np.uint8(255*mag_sobel/np.max(mag_sobel))\n",
    "    \n",
    "    binary = np.zeros_like(scaled_sobel)\n",
    "    (mag_thresh_min, mag_thresh_max) = mag_thresh\n",
    "    (dir_thresh_min, dir_thresh_max) = dir_thresh\n",
    "    binary[(((scaled_sobel > mag_thresh_min) & (scaled_sobel <= mag_thresh_max)) &\n",
    "            ((dir_sobel > dir_thresh_min) & (dir_sobel <= dir_thresh_max))) |\n",
    "           ((sobelx > threshx) & (sobely > threshy))] = 1\n",
    "    \n",
    "    return binary"
   ]
  },
  {
   "cell_type": "code",
   "execution_count": 168,
   "metadata": {
    "collapsed": false,
    "deletable": true,
    "editable": true,
    "scrolled": false
   },
   "outputs": [],
   "source": [
    "extracted_lanes_images = []\n",
    "undistored_images      = []\n",
    "\n",
    "for file in os.listdir('test_images'):\n",
    "    img = plt.imread(os.path.join('test_images', file))\n",
    "    img = undistort_image(img, cam_matrix, dist_params)\n",
    "    undistored_images.append(img)\n",
    "    ext = lane_line_extract(img)\n",
    "    ext = cv2.warpPerspective(ext, perspM, img.shape[:2][::-1], flags=cv2.INTER_LINEAR)\n",
    "    img = cv2.warpPerspective(img, perspM, img.shape[:2][::-1], flags=cv2.INTER_LINEAR)\n",
    "    #before_after_plot(img, ext, 'Original', 'Extracted lanes', None, 'gray')\n",
    "    #histogram = np.sum(ext[ext.shape[0]//2:,:], axis=0)\n",
    "    #plt.figure()\n",
    "    #plt.plot(histogram)\n",
    "    extracted_lanes_images.append(ext)"
   ]
  },
  {
   "cell_type": "markdown",
   "metadata": {
    "collapsed": true,
    "deletable": true,
    "editable": true
   },
   "source": [
    "# Lane Finding\n",
    "***\n",
    "Use a sliding window to find peaks in # of pixels that indicate likely line positions.  Follow those up the image."
   ]
  },
  {
   "cell_type": "code",
   "execution_count": 169,
   "metadata": {
    "collapsed": true,
    "deletable": true,
    "editable": true
   },
   "outputs": [],
   "source": [
    "def get_lane_line_pixels(img, nwindows=9, margin=100, minpix=50):\n",
    "    \"\"\"\n",
    "    nwindows - # of sliding windows\n",
    "    margin   - Set the width of the windows +/- margin\n",
    "    minpix   - Set minimum number of pixels found to recenter window\n",
    "    \"\"\"\n",
    "    histogram = np.sum(img[img.shape[0]/2:,:], axis=0)\n",
    "    # Create an output image to draw on and  visualize the result\n",
    "    out_img = np.dstack((img, img, img))*255\n",
    "    # Find the peak of the left and right halves of the histogram\n",
    "    # These will be the starting point for the left and right lines\n",
    "    midpoint = np.int(histogram.shape[0]/2)\n",
    "    leftx_base = np.argmax(histogram[:midpoint])\n",
    "    rightx_base = np.argmax(histogram[midpoint:]) + midpoint\n",
    "\n",
    "    # Set height of windows\n",
    "    window_height = np.int(img.shape[0]/nwindows)\n",
    "    # Identify the x and y positions of all nonzero pixels in the image\n",
    "    nonzero  = img.nonzero()\n",
    "    nonzeroy = np.array(nonzero[0])\n",
    "    nonzerox = np.array(nonzero[1])\n",
    "\n",
    "    # Current positions to be updated for each window\n",
    "    leftx_current = leftx_base\n",
    "    rightx_current = rightx_base\n",
    "\n",
    "    # Create empty lists to receive left and right lane pixel indices\n",
    "    left_lane_inds  = []\n",
    "    right_lane_inds = []\n",
    "\n",
    "    # Step through the windows one by one\n",
    "    for window in range(nwindows):\n",
    "        # Identify window boundaries in x and y (and right and left)\n",
    "        win_y_low = img.shape[0] - (window+1)*window_height\n",
    "        win_y_high = img.shape[0] - window*window_height\n",
    "        win_xleft_low = leftx_current - margin\n",
    "        win_xleft_high = leftx_current + margin\n",
    "        win_xright_low = rightx_current - margin\n",
    "        win_xright_high = rightx_current + margin\n",
    "        # Draw the windows on the visualization image\n",
    "        cv2.rectangle(out_img,(win_xleft_low,win_y_low),(win_xleft_high,win_y_high),(0,255,0), 2) \n",
    "        cv2.rectangle(out_img,(win_xright_low,win_y_low),(win_xright_high,win_y_high),(0,255,0), 2) \n",
    "        # Identify the nonzero pixels in x and y within the window\n",
    "        good_left_inds = ((nonzeroy >= win_y_low) & (nonzeroy < win_y_high) &\n",
    "                          (nonzerox >= win_xleft_low) & (nonzerox < win_xleft_high)).nonzero()[0]\n",
    "        good_right_inds = ((nonzeroy >= win_y_low) & (nonzeroy < win_y_high) &\n",
    "                           (nonzerox >= win_xright_low) & (nonzerox < win_xright_high)).nonzero()[0]\n",
    "        # Append these indices to the lists\n",
    "        left_lane_inds.append(good_left_inds)\n",
    "        right_lane_inds.append(good_right_inds)\n",
    "        # If you found > minpix pixels, recenter next window on their mean position\n",
    "        if len(good_left_inds) > minpix:\n",
    "            leftx_current = np.int(np.mean(nonzerox[good_left_inds]))\n",
    "        if len(good_right_inds) > minpix:        \n",
    "            rightx_current = np.int(np.mean(nonzerox[good_right_inds]))\n",
    "\n",
    "    # Concatenate the arrays of indices\n",
    "    left_lane_inds = np.concatenate(left_lane_inds)\n",
    "    right_lane_inds = np.concatenate(right_lane_inds)\n",
    "\n",
    "    # Extract left and right line pixel positions\n",
    "    leftx = nonzerox[left_lane_inds]\n",
    "    lefty = nonzeroy[left_lane_inds] \n",
    "    rightx = nonzerox[right_lane_inds]\n",
    "    righty = nonzeroy[right_lane_inds]\n",
    "    \n",
    "    return (leftx, lefty, rightx, righty, out_img)"
   ]
  },
  {
   "cell_type": "code",
   "execution_count": 170,
   "metadata": {
    "collapsed": true,
    "deletable": true,
    "editable": true
   },
   "outputs": [],
   "source": [
    "def calc_poly_fit_and_curvature(ylen, width, leftx, lefty, rightx, righty):\n",
    "    left_fit = np.polyfit(lefty, leftx, 2)\n",
    "    right_fit = np.polyfit(righty, rightx, 2)\n",
    "\n",
    "    # Generate x and y values for plotting\n",
    "    ploty = np.linspace(0, ylen-1, ylen )\n",
    "    left_fitx = left_fit[0]*ploty**2 + left_fit[1]*ploty + left_fit[2]\n",
    "    right_fitx = right_fit[0]*ploty**2 + right_fit[1]*ploty + right_fit[2]\n",
    "    \n",
    "    # calculate the radius of curvature\n",
    "    ym_per_pix =  30 / 720 # meters per pixel in y dimension\n",
    "    xm_per_pix = 3.7 / 700 # meters per pixel in x dimension\n",
    "    \n",
    "    left_fit_cr = np.polyfit(lefty*ym_per_pix, leftx*xm_per_pix, 2)\n",
    "    right_fit_cr = np.polyfit(righty*ym_per_pix, rightx*xm_per_pix, 2)\n",
    "    \n",
    "    (Al, Bl) = (left_fit_cr[0], left_fit_cr[1])\n",
    "    (Ar, Br) = (right_fit_cr[0], right_fit_cr[1])\n",
    "    ymax     = (ylen - 1) * ym_per_pix\n",
    "    \n",
    "    Rc_l = ((1 + (2*Al*ymax+Bl)**2)**1.5) / abs(2 * Al)\n",
    "    Rc_r = ((1 + (2*Ar*ymax+Br)**2)**1.5) / abs(2 * Ar)\n",
    "    \n",
    "    img_center = width / 2\n",
    "    lane_center_pix = (left_fitx[ylen-1] + right_fitx[ylen-1]) / 2\n",
    "    dist_from_center = abs(img_center - lane_center_pix) * xm_per_pix \n",
    "    \n",
    "    return (left_fitx, right_fitx, ploty, Rc_l, Rc_r, dist_from_center)"
   ]
  },
  {
   "cell_type": "code",
   "execution_count": 171,
   "metadata": {
    "collapsed": false,
    "deletable": true,
    "editable": true,
    "scrolled": false
   },
   "outputs": [],
   "source": [
    "lane_lines = []\n",
    "\n",
    "for ext_img in extracted_lanes_images:\n",
    "    (leftx, lefty, rightx, righty, out_img) = get_lane_line_pixels(ext_img)\n",
    "    (left_fitx, right_fitx, ploty, Rc_l, Rc_r, dist_from_center) = calc_poly_fit_and_curvature(\n",
    "        ext_img.shape[0], ext_img.shape[1], leftx, lefty, rightx, righty)\n",
    "    \n",
    "    lane_lines.append((left_fitx, right_fitx, ploty, Rc_l, Rc_r, dist_from_center))\n",
    "    \n",
    "    continue\n",
    "\n",
    "    out_img[lefty, leftx] = [255, 0, 0]\n",
    "    out_img[righty, rightx] = [0, 0, 255]\n",
    "    plt.figure()\n",
    "    plt.imshow(out_img)\n",
    "    plt.plot(left_fitx, ploty, color='yellow')\n",
    "    plt.plot(right_fitx, ploty, color='yellow')\n",
    "    plt.xlim(0, 1280)\n",
    "    plt.ylim(720, 0)"
   ]
  },
  {
   "cell_type": "markdown",
   "metadata": {
    "deletable": true,
    "editable": true
   },
   "source": [
    "# Map lines back to road and color region"
   ]
  },
  {
   "cell_type": "code",
   "execution_count": 176,
   "metadata": {
    "collapsed": true,
    "deletable": true,
    "editable": true
   },
   "outputs": [],
   "source": [
    "def remap_lines(orig, Minv, left_fitx, right_fitx, ploty):\n",
    "    warp_zero = np.zeros_like(orig[:,:,0]).astype(np.uint8)\n",
    "    color_warp = np.dstack((warp_zero, warp_zero, warp_zero))\n",
    "\n",
    "    # Recast the x and y points into usable format for cv2.fillPoly()\n",
    "    pts_left = np.array([np.transpose(np.vstack([left_fitx, ploty]))])\n",
    "    pts_right = np.array([np.flipud(np.transpose(np.vstack([right_fitx, ploty])))])\n",
    "    pts = np.hstack((pts_left, pts_right))\n",
    "\n",
    "    # Draw the lane onto the warped blank image\n",
    "    cv2.fillPoly(color_warp, np.int_([pts]), (0,255, 0))\n",
    "\n",
    "    # Warp the blank back to original image space using inverse perspective matrix (Minv)\n",
    "    newwarp = cv2.warpPerspective(color_warp, Minv, (orig.shape[1], orig.shape[0])) \n",
    "    # Combine the result with the original image\n",
    "    result = cv2.addWeighted(orig, 1, newwarp, 0.3, 0)\n",
    "    \n",
    "    return (result, color_warp)"
   ]
  },
  {
   "cell_type": "code",
   "execution_count": 177,
   "metadata": {
    "collapsed": true
   },
   "outputs": [],
   "source": [
    "def draw_text(img, text, org):\n",
    "    cv2.putText(img, text, org, cv2.FONT_HERSHEY_COMPLEX, 1, (255,255,255), thickness=2)"
   ]
  },
  {
   "cell_type": "code",
   "execution_count": 178,
   "metadata": {
    "collapsed": true
   },
   "outputs": [],
   "source": [
    "def display_stats(img, Rc_l, Rc_r, dist_from_center):\n",
    "    draw_text(img, 'Radius of Curvature (left):  {:.2f} m.'.format(Rc_l), (20, 50))\n",
    "    draw_text(img, 'Radius of Curvature (right): {:.2f} m.'.format(Rc_r), (20, 80))\n",
    "    draw_text(img, 'Distance from center:        {:.2f} m.'.format(dist_from_center), (20, 110))"
   ]
  },
  {
   "cell_type": "code",
   "execution_count": 179,
   "metadata": {
    "collapsed": false,
    "deletable": true,
    "editable": true,
    "scrolled": false
   },
   "outputs": [],
   "source": [
    "for (undist_img, (left_fitx, right_fitx, ploty, Rc_l, Rc_r, dist_from_center)) in zip(undistored_images, lane_lines):\n",
    "    (result, color_warp) = remap_lines(undist_img, perspMinv, left_fitx, right_fitx, ploty)\n",
    "    display_stats(result, Rc_l, Rc_r, dist_from_center)\n",
    "    #before_after_plot(result, color_warp, 'mapping', 'top down')"
   ]
  },
  {
   "cell_type": "markdown",
   "metadata": {
    "deletable": true,
    "editable": true
   },
   "source": [
    "# Video Processing Pipeline"
   ]
  },
  {
   "cell_type": "code",
   "execution_count": 180,
   "metadata": {
    "collapsed": true,
    "deletable": true,
    "editable": true
   },
   "outputs": [],
   "source": [
    "# Import everythingneeded to edit/save/watch video clips\n",
    "from moviepy.editor import VideoFileClip\n",
    "from IPython.display import HTML"
   ]
  },
  {
   "cell_type": "code",
   "execution_count": 181,
   "metadata": {
    "collapsed": true
   },
   "outputs": [],
   "source": [
    "g_Val = 0"
   ]
  },
  {
   "cell_type": "code",
   "execution_count": 182,
   "metadata": {
    "collapsed": true,
    "deletable": true,
    "editable": true
   },
   "outputs": [],
   "source": [
    "def process_image(img):\n",
    "    undist_img = undistort_image(img, cam_matrix, dist_params)\n",
    "    ext = lane_line_extract(undist_img)\n",
    "    ext = cv2.warpPerspective(ext, perspM, img.shape[:2][::-1], flags=cv2.INTER_LINEAR)\n",
    "    (leftx, lefty, rightx, righty, _) = get_lane_line_pixels(ext)\n",
    "    (left_fitx, right_fitx, ploty, Rc_l, Rc_r, dist_from_center) = calc_poly_fit_and_curvature(\n",
    "        ext.shape[0], ext.shape[1], leftx, lefty, rightx, righty)\n",
    "    (result, _) = remap_lines(undist_img, perspMinv, left_fitx, right_fitx, ploty)\n",
    "    display_stats(result, Rc_l, Rc_r, dist_from_center)\n",
    "    global g_Val\n",
    "    g_Val += 1\n",
    "    plt.imsave(\"raw_images/{}.jpg\".format(g_Val), img)\n",
    "    plt.imsave(\"processed_images/{}.jpg\".format(g_Val), result)\n",
    "    return result"
   ]
  },
  {
   "cell_type": "code",
   "execution_count": 183,
   "metadata": {
    "collapsed": true,
    "deletable": true,
    "editable": true
   },
   "outputs": [],
   "source": [
    "def process_video(input, output):\n",
    "    clip = VideoFileClip(input)\n",
    "    clip_output = clip.fl_image(process_image) #NOTE: this function expects color images!!\n",
    "    %time clip_output.write_videofile(output, audio=False)"
   ]
  },
  {
   "cell_type": "code",
   "execution_count": 70,
   "metadata": {
    "collapsed": false,
    "deletable": true,
    "editable": true
   },
   "outputs": [
    {
     "name": "stdout",
     "output_type": "stream",
     "text": [
      "[MoviePy] >>>> Building video output.mp4\n",
      "[MoviePy] Writing video output.mp4\n"
     ]
    },
    {
     "name": "stderr",
     "output_type": "stream",
     "text": [
      "100%|█████████████████████████████████████████████████████████████████████████████▉| 1260/1261 [12:03<00:00,  1.74it/s]\n"
     ]
    },
    {
     "name": "stdout",
     "output_type": "stream",
     "text": [
      "[MoviePy] Done.\n",
      "[MoviePy] >>>> Video ready: output.mp4 \n",
      "\n",
      "Wall time: 12min 3s\n"
     ]
    }
   ],
   "source": [
    "process_video('project_video.mp4', 'output.mp4')"
   ]
  },
  {
   "cell_type": "code",
   "execution_count": null,
   "metadata": {
    "collapsed": true,
    "deletable": true,
    "editable": true
   },
   "outputs": [],
   "source": []
  }
 ],
 "metadata": {
  "kernelspec": {
   "display_name": "Python 3",
   "language": "python",
   "name": "python3"
  },
  "language_info": {
   "codemirror_mode": {
    "name": "ipython",
    "version": 3
   },
   "file_extension": ".py",
   "mimetype": "text/x-python",
   "name": "python",
   "nbconvert_exporter": "python",
   "pygments_lexer": "ipython3",
   "version": "3.5.2"
  },
  "widgets": {
   "state": {},
   "version": "1.1.2"
  }
 },
 "nbformat": 4,
 "nbformat_minor": 2
}
